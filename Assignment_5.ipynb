{
  "nbformat": 4,
  "nbformat_minor": 0,
  "metadata": {
    "kernelspec": {
      "display_name": "Python 3",
      "language": "python",
      "name": "python3"
    },
    "language_info": {
      "codemirror_mode": {
        "name": "ipython",
        "version": 3
      },
      "file_extension": ".py",
      "mimetype": "text/x-python",
      "name": "python",
      "nbconvert_exporter": "python",
      "pygments_lexer": "ipython3",
      "version": "3.7.4"
    },
    "colab": {
      "name": " Assignment 5.ipynb",
      "provenance": [],
      "include_colab_link": true
    }
  },
  "cells": [
    {
      "cell_type": "markdown",
      "metadata": {
        "id": "view-in-github",
        "colab_type": "text"
      },
      "source": [
        "<a href=\"https://colab.research.google.com/github/groovies/cutter/blob/master/Assignment_5.ipynb\" target=\"_parent\"><img src=\"https://colab.research.google.com/assets/colab-badge.svg\" alt=\"Open In Colab\"/></a>"
      ]
    },
    {
      "cell_type": "code",
      "metadata": {
        "id": "EXLhsWW8T0Ob",
        "colab_type": "code",
        "colab": {}
      },
      "source": [
        "import warnings\n",
        "warnings.filterwarnings('ignore')\n",
        "\n",
        "import numpy as np\n",
        "import matplotlib.pyplot as plt\n",
        "from sklearn.preprocessing import scale\n",
        "import random\n",
        "import pandas as pd"
      ],
      "execution_count": 59,
      "outputs": []
    },
    {
      "cell_type": "code",
      "metadata": {
        "id": "S2j9nv44T0PP",
        "colab_type": "code",
        "colab": {}
      },
      "source": [
        "def designMatrix(x):\n",
        "    n = len(x)\n",
        "    X = np.c_[np.ones(n), x, x**2, x**3, x**4,x**5, x**6] \n",
        "    return X "
      ],
      "execution_count": 60,
      "outputs": []
    },
    {
      "cell_type": "code",
      "metadata": {
        "id": "HyMOr6l9T0Pp",
        "colab_type": "code",
        "colab": {}
      },
      "source": [
        "def L2_regularization(X, Y, λ):\n",
        "    I = np.eye(7)  \n",
        "    I[0,0] = 0  \n",
        "    theta = np.linalg.inv((X.T.dot(X) + λ * I)).dot(X.T).dot(Y)  \n",
        "    return theta"
      ],
      "execution_count": 61,
      "outputs": []
    },
    {
      "cell_type": "code",
      "metadata": {
        "id": "tSNiUmWQT0Th",
        "colab_type": "code",
        "colab": {}
      },
      "source": [
        "n = 200\n",
        "random.seed(123)\n",
        "x = np.random.uniform(0,9000,n)\n",
        "x = x[np.argsort(x)]\n",
        "y = 5 + x**1 + x**2 + x**3\n",
        "\n",
        "random.seed(123)\n",
        "y_obs = y + np.random.normal(0,9000, n)\n",
        "\n",
        "x_train = x[x < 200]\n",
        "x_test = x[x >= 200]\n",
        "\n",
        "y_train = y_obs[x < 200]\n",
        "y_test = y_obs[x >= 200]\n",
        "\n",
        "n_train = len(x_train)\n",
        "n_test = len(x_test)\n",
        "\n",
        "x_train = designMatrix(x_train)\n",
        "x_test = designMatrix(x_test)"
      ],
      "execution_count": 62,
      "outputs": []
    },
    {
      "cell_type": "code",
      "metadata": {
        "id": "PzpeLSHET0T4",
        "colab_type": "code",
        "colab": {}
      },
      "source": [
        "testMSE = [] \n",
        "\n",
        "for λ in [0, 0.3, 30, 50, 85, 100, 200, 250]:\n",
        "    \n",
        "    theta = L2_regularization(x_train, y_train, λ)\n",
        "    y_pred = theta[0]*x_test[:,0] + theta[1]*x_test[:,1] + theta[2]*x_test[:,2] + theta[3]*x_test[:,3] + theta[4]*x_test[:,4] + \\\n",
        "             theta[5]*x_test[:,5] + theta[6]*x_test[:,6] \n",
        "    mse = 1/(2*n)*np.sum(y_test - y_pred)**2\n",
        "    testMSE.append(mse)"
      ],
      "execution_count": 63,
      "outputs": []
    },
    {
      "cell_type": "code",
      "metadata": {
        "id": "MtwlpFBXT0UU",
        "colab_type": "code",
        "colab": {}
      },
      "source": [
        "trainMSE = [] \n",
        "\n",
        "lambdas = [0, 0.3, 30, 50, 85, 100, 200, 250]\n",
        "\n",
        "for λ in lambdas:\n",
        "    \n",
        "    theta = L2_regularization(x_train, y_train, λ)\n",
        "    y_pred = theta[0]*x_train[:,0] + theta[1]*x_train[:,1] + theta[2]*x_train[:,2] + theta[3]*x_train[:,3] + theta[4]*x_train[:,4] + \\\n",
        "             theta[5]*x_train[:,5] + theta[6]*x_train[:,6] \n",
        "    mse = 1/(2*n)*np.sum(y_train - y_pred)**2\n",
        "    trainMSE.append(mse)"
      ],
      "execution_count": 64,
      "outputs": []
    },
    {
      "cell_type": "code",
      "metadata": {
        "id": "yZrs3fqjT0Um",
        "colab_type": "code",
        "colab": {
          "base_uri": "https://localhost:8080/",
          "height": 238
        },
        "outputId": "e6f7d8b2-db8b-400f-f021-506d7fc0375b"
      },
      "source": [
        "\n",
        "testMSE = scale(MSE_train)\n",
        "trainMSE = scale(MSE_test)\n",
        "Lambdas = scale([0, 0.3, 30, 50, 85, 100, 200, 250]) \n",
        "lambdas = [0, 0.3, 30, 50, 85, 100, 200, 250] \n",
        "\n",
        "\n",
        "table_values = {'lambdas': lambdas,'trainMSE':MSE_train,'testMSE':MSE_test} \n",
        "dataFrame = pd.DataFrame(data)\n",
        "\n",
        "dataFrame['Maximum'] = dataFrame[['testMSE','trainMSE']].max(axis=1)\n",
        "\n"
      ],
      "execution_count": 69,
      "outputs": [
        {
          "output_type": "error",
          "ename": "NameError",
          "evalue": "ignored",
          "traceback": [
            "\u001b[0;31m---------------------------------------------------------------------------\u001b[0m",
            "\u001b[0;31mNameError\u001b[0m                                 Traceback (most recent call last)",
            "\u001b[0;32m<ipython-input-69-db59863a726e>\u001b[0m in \u001b[0;36m<module>\u001b[0;34m()\u001b[0m\n\u001b[1;32m      1\u001b[0m \u001b[0;34m\u001b[0m\u001b[0m\n\u001b[1;32m      2\u001b[0m \u001b[0mtestMSE\u001b[0m \u001b[0;34m=\u001b[0m \u001b[0mscale\u001b[0m\u001b[0;34m(\u001b[0m\u001b[0mMSE_train\u001b[0m\u001b[0;34m)\u001b[0m\u001b[0;34m\u001b[0m\u001b[0;34m\u001b[0m\u001b[0m\n\u001b[0;32m----> 3\u001b[0;31m \u001b[0mtrainMSE\u001b[0m \u001b[0;34m=\u001b[0m \u001b[0mscale\u001b[0m\u001b[0;34m(\u001b[0m\u001b[0mMSE_test\u001b[0m\u001b[0;34m)\u001b[0m\u001b[0;34m\u001b[0m\u001b[0;34m\u001b[0m\u001b[0m\n\u001b[0m\u001b[1;32m      4\u001b[0m \u001b[0mLambdas\u001b[0m \u001b[0;34m=\u001b[0m \u001b[0mscale\u001b[0m\u001b[0;34m(\u001b[0m\u001b[0;34m[\u001b[0m\u001b[0;36m0\u001b[0m\u001b[0;34m,\u001b[0m \u001b[0;36m0.3\u001b[0m\u001b[0;34m,\u001b[0m \u001b[0;36m30\u001b[0m\u001b[0;34m,\u001b[0m \u001b[0;36m50\u001b[0m\u001b[0;34m,\u001b[0m \u001b[0;36m85\u001b[0m\u001b[0;34m,\u001b[0m \u001b[0;36m100\u001b[0m\u001b[0;34m,\u001b[0m \u001b[0;36m200\u001b[0m\u001b[0;34m,\u001b[0m \u001b[0;36m250\u001b[0m\u001b[0;34m]\u001b[0m\u001b[0;34m)\u001b[0m\u001b[0;34m\u001b[0m\u001b[0;34m\u001b[0m\u001b[0m\n\u001b[1;32m      5\u001b[0m \u001b[0mlambdas\u001b[0m \u001b[0;34m=\u001b[0m \u001b[0;34m[\u001b[0m\u001b[0;36m0\u001b[0m\u001b[0;34m,\u001b[0m \u001b[0;36m0.3\u001b[0m\u001b[0;34m,\u001b[0m \u001b[0;36m30\u001b[0m\u001b[0;34m,\u001b[0m \u001b[0;36m50\u001b[0m\u001b[0;34m,\u001b[0m \u001b[0;36m85\u001b[0m\u001b[0;34m,\u001b[0m \u001b[0;36m100\u001b[0m\u001b[0;34m,\u001b[0m \u001b[0;36m200\u001b[0m\u001b[0;34m,\u001b[0m \u001b[0;36m250\u001b[0m\u001b[0;34m]\u001b[0m\u001b[0;34m\u001b[0m\u001b[0;34m\u001b[0m\u001b[0m\n",
            "\u001b[0;31mNameError\u001b[0m: name 'MSE_test' is not defined"
          ]
        }
      ]
    },
    {
      "cell_type": "code",
      "metadata": {
        "id": "G71gq2zaT0U5",
        "colab_type": "code",
        "colab": {
          "base_uri": "https://localhost:8080/",
          "height": 167
        },
        "outputId": "17c2383b-bd74-4624-cf86-ea8f7c676339"
      },
      "source": [
        "dataFrame['Maximum'].max() "
      ],
      "execution_count": 52,
      "outputs": [
        {
          "output_type": "error",
          "ename": "NameError",
          "evalue": "ignored",
          "traceback": [
            "\u001b[0;31m---------------------------------------------------------------------------\u001b[0m",
            "\u001b[0;31mNameError\u001b[0m                                 Traceback (most recent call last)",
            "\u001b[0;32m<ipython-input-52-0393bccb5ede>\u001b[0m in \u001b[0;36m<module>\u001b[0;34m()\u001b[0m\n\u001b[0;32m----> 1\u001b[0;31m \u001b[0mdataFrame\u001b[0m\u001b[0;34m[\u001b[0m\u001b[0;34m'Maximum'\u001b[0m\u001b[0;34m]\u001b[0m\u001b[0;34m.\u001b[0m\u001b[0mmax\u001b[0m\u001b[0;34m(\u001b[0m\u001b[0;34m)\u001b[0m\u001b[0;34m\u001b[0m\u001b[0;34m\u001b[0m\u001b[0m\n\u001b[0m",
            "\u001b[0;31mNameError\u001b[0m: name 'dataFrame' is not defined"
          ]
        }
      ]
    },
    {
      "cell_type": "code",
      "metadata": {
        "id": "YiMpvOVvT0VG",
        "colab_type": "code",
        "colab": {
          "base_uri": "https://localhost:8080/",
          "height": 384
        },
        "outputId": "15694196-877e-4616-e5c9-8e0abb1b52f0"
      },
      "source": [
        "plt.figure(figsize=(16,6))\n",
        "plt.plot(trainMSE, label='train MSE')\n",
        "plt.plot(testMSE, label='test MSE')\n",
        "plt.legend()\n",
        "plt.show()"
      ],
      "execution_count": 53,
      "outputs": [
        {
          "output_type": "display_data",
          "data": {
            "image/png": "[encoded data removed]",
            "text/plain": [
              "<Figure size 1152x432 with 1 Axes>"
            ]
          },
          "metadata": {
            "tags": [],
            "needs_background": "light"
          }
        }
      ]
    },
    {
      "cell_type": "code",
      "metadata": {
        "id": "AX0dvtXxT0VW",
        "colab_type": "code",
        "colab": {}
      },
      "source": [
        ""
      ],
      "execution_count": null,
      "outputs": []
    },
    {
      "cell_type": "code",
      "metadata": {
        "id": "K_FAW_KfT0Vf",
        "colab_type": "code",
        "colab": {}
      },
      "source": [
        ""
      ],
      "execution_count": null,
      "outputs": []
    }
  ]
}