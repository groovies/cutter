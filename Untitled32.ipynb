{
  "nbformat": 4,
  "nbformat_minor": 0,
  "metadata": {
    "colab": {
      "name": "Untitled32.ipynb",
      "provenance": [],
      "authorship_tag": "ABX9TyNS2SOwZSvvDMStrfQVw2WV",
      "include_colab_link": true
    },
    "kernelspec": {
      "name": "python3",
      "display_name": "Python 3"
    }
  },
  "cells": [
    {
      "cell_type": "markdown",
      "metadata": {
        "id": "view-in-github",
        "colab_type": "text"
      },
      "source": [
        "<a href=\"https://colab.research.google.com/github/groovies/cutter/blob/master/Untitled32.ipynb\" target=\"_parent\"><img src=\"https://colab.research.google.com/assets/colab-badge.svg\" alt=\"Open In Colab\"/></a>"
      ]
    },
    {
      "cell_type": "code",
      "metadata": {
        "id": "4ly-Bg9zahjh",
        "colab_type": "code",
        "colab": {}
      },
      "source": [
        "import numpy as np\n",
        "import matplotlib.pyplot as plt\n",
        "from scipy.stats import distributions as dist\n"
      ],
      "execution_count": 0,
      "outputs": []
    },
    {
      "cell_type": "code",
      "metadata": {
        "id": "qxm7XbKra_cn",
        "colab_type": "code",
        "colab": {}
      },
      "source": [
        " n=100\n",
        " x=dist.uniform(0,20).rvs(n)\n",
        " x=x[np.argsort(x)]\n",
        " y1_true=4+0.5*x\n",
        " y_obs=y1_true+dist.norm(0,0.5).rvs(n)\n"
      ],
      "execution_count": 0,
      "outputs": []
    },
    {
      "cell_type": "code",
      "metadata": {
        "id": "CD0W1WBLcB0q",
        "colab_type": "code",
        "outputId": "07c6a176-cc8b-462b-c6b1-4aa5de229261",
        "colab": {
          "base_uri": "https://localhost:8080/",
          "height": 1000
        }
      },
      "source": [
        "x=np.c_[np.ones(n),x]\n",
        "x\n"
      ],
      "execution_count": 3,
      "outputs": [
        {
          "output_type": "execute_result",
          "data": {
            "text/plain": [
              "array([[ 1.        ,  0.28159502],\n",
              "       [ 1.        ,  0.42781509],\n",
              "       [ 1.        ,  0.50343075],\n",
              "       [ 1.        ,  0.54750655],\n",
              "       [ 1.        ,  0.6708734 ],\n",
              "       [ 1.        ,  1.04637222],\n",
              "       [ 1.        ,  1.97026962],\n",
              "       [ 1.        ,  2.02953616],\n",
              "       [ 1.        ,  2.77017484],\n",
              "       [ 1.        ,  2.82229743],\n",
              "       [ 1.        ,  2.86356926],\n",
              "       [ 1.        ,  2.9817265 ],\n",
              "       [ 1.        ,  3.20863377],\n",
              "       [ 1.        ,  3.35377359],\n",
              "       [ 1.        ,  3.36666661],\n",
              "       [ 1.        ,  3.54357952],\n",
              "       [ 1.        ,  3.78538379],\n",
              "       [ 1.        ,  3.78776354],\n",
              "       [ 1.        ,  3.82740221],\n",
              "       [ 1.        ,  3.9250376 ],\n",
              "       [ 1.        ,  4.16112855],\n",
              "       [ 1.        ,  4.34207917],\n",
              "       [ 1.        ,  4.55924269],\n",
              "       [ 1.        ,  4.56762568],\n",
              "       [ 1.        ,  4.59222251],\n",
              "       [ 1.        ,  4.9393174 ],\n",
              "       [ 1.        ,  5.1322638 ],\n",
              "       [ 1.        ,  5.3228543 ],\n",
              "       [ 1.        ,  5.34321727],\n",
              "       [ 1.        ,  5.51688906],\n",
              "       [ 1.        ,  5.53886002],\n",
              "       [ 1.        ,  5.78416945],\n",
              "       [ 1.        ,  5.84776977],\n",
              "       [ 1.        ,  5.99402656],\n",
              "       [ 1.        ,  6.25449255],\n",
              "       [ 1.        ,  6.40156283],\n",
              "       [ 1.        ,  6.4406843 ],\n",
              "       [ 1.        ,  6.86799035],\n",
              "       [ 1.        ,  6.96765521],\n",
              "       [ 1.        ,  7.00828489],\n",
              "       [ 1.        ,  7.13850704],\n",
              "       [ 1.        ,  7.77236547],\n",
              "       [ 1.        ,  8.08303864],\n",
              "       [ 1.        ,  8.32916059],\n",
              "       [ 1.        ,  8.84489071],\n",
              "       [ 1.        ,  9.44877513],\n",
              "       [ 1.        ,  9.72637066],\n",
              "       [ 1.        ,  9.78719169],\n",
              "       [ 1.        , 10.26976135],\n",
              "       [ 1.        , 10.34146757],\n",
              "       [ 1.        , 10.46765902],\n",
              "       [ 1.        , 11.1401033 ],\n",
              "       [ 1.        , 11.23797522],\n",
              "       [ 1.        , 11.72851949],\n",
              "       [ 1.        , 11.90030936],\n",
              "       [ 1.        , 11.94381182],\n",
              "       [ 1.        , 12.18433904],\n",
              "       [ 1.        , 12.29727726],\n",
              "       [ 1.        , 12.33192466],\n",
              "       [ 1.        , 12.4721736 ],\n",
              "       [ 1.        , 12.54284152],\n",
              "       [ 1.        , 12.54591452],\n",
              "       [ 1.        , 12.82682112],\n",
              "       [ 1.        , 12.85984019],\n",
              "       [ 1.        , 13.02935826],\n",
              "       [ 1.        , 13.10887127],\n",
              "       [ 1.        , 13.13839923],\n",
              "       [ 1.        , 13.17018266],\n",
              "       [ 1.        , 13.35136756],\n",
              "       [ 1.        , 13.36152366],\n",
              "       [ 1.        , 13.44745039],\n",
              "       [ 1.        , 13.53039346],\n",
              "       [ 1.        , 13.80511008],\n",
              "       [ 1.        , 13.80910219],\n",
              "       [ 1.        , 14.13664161],\n",
              "       [ 1.        , 14.39165758],\n",
              "       [ 1.        , 14.47913665],\n",
              "       [ 1.        , 14.7783383 ],\n",
              "       [ 1.        , 14.93376427],\n",
              "       [ 1.        , 14.95032746],\n",
              "       [ 1.        , 14.99878036],\n",
              "       [ 1.        , 15.05237068],\n",
              "       [ 1.        , 15.63420428],\n",
              "       [ 1.        , 16.01518854],\n",
              "       [ 1.        , 16.07681336],\n",
              "       [ 1.        , 16.0832666 ],\n",
              "       [ 1.        , 16.99741755],\n",
              "       [ 1.        , 17.10375529],\n",
              "       [ 1.        , 17.28889398],\n",
              "       [ 1.        , 17.3481293 ],\n",
              "       [ 1.        , 17.6472681 ],\n",
              "       [ 1.        , 18.13419683],\n",
              "       [ 1.        , 18.16206349],\n",
              "       [ 1.        , 18.72194511],\n",
              "       [ 1.        , 18.74273943],\n",
              "       [ 1.        , 18.8474798 ],\n",
              "       [ 1.        , 19.04576764],\n",
              "       [ 1.        , 19.06177829],\n",
              "       [ 1.        , 19.24123611],\n",
              "       [ 1.        , 19.77143365]])"
            ]
          },
          "metadata": {
            "tags": []
          },
          "execution_count": 3
        }
      ]
    },
    {
      "cell_type": "code",
      "metadata": {
        "id": "jnZNYdKdffF5",
        "colab_type": "code",
        "outputId": "acb11c55-b208-4c9c-97fe-b505521e8f14",
        "colab": {
          "base_uri": "https://localhost:8080/",
          "height": 34
        }
      },
      "source": [
        "theta_1=np.linalg.inv(x.T.dot(x)).dot(x.T).dot(y_obs)\n",
        "theta_1"
      ],
      "execution_count": 4,
      "outputs": [
        {
          "output_type": "execute_result",
          "data": {
            "text/plain": [
              "array([3.77881451, 0.51829869])"
            ]
          },
          "metadata": {
            "tags": []
          },
          "execution_count": 4
        }
      ]
    },
    {
      "cell_type": "code",
      "metadata": {
        "id": "jJubzQ1UffDr",
        "colab_type": "code",
        "outputId": "119713fd-c947-470a-d4f7-3b12ea277ff1",
        "colab": {
          "base_uri": "https://localhost:8080/",
          "height": 231
        }
      },
      "source": [
        "alpha=3.97819508\n",
        "(1/n)*(y_obs.T - x.T.dot(alpha))*[(y_obs -dot(x).dot(alpha))]\n",
        "\n",
        "\n",
        "\n"
      ],
      "execution_count": 5,
      "outputs": [
        {
          "output_type": "error",
          "ename": "NameError",
          "evalue": "ignored",
          "traceback": [
            "\u001b[0;31m---------------------------------------------------------------------------\u001b[0m",
            "\u001b[0;31mNameError\u001b[0m                                 Traceback (most recent call last)",
            "\u001b[0;32m<ipython-input-5-05dd1576796c>\u001b[0m in \u001b[0;36m<module>\u001b[0;34m()\u001b[0m\n\u001b[1;32m      1\u001b[0m \u001b[0malpha\u001b[0m\u001b[0;34m=\u001b[0m\u001b[0;36m3.97819508\u001b[0m\u001b[0;34m\u001b[0m\u001b[0;34m\u001b[0m\u001b[0m\n\u001b[0;32m----> 2\u001b[0;31m \u001b[0;34m(\u001b[0m\u001b[0;36m1\u001b[0m\u001b[0;34m/\u001b[0m\u001b[0mn\u001b[0m\u001b[0;34m)\u001b[0m\u001b[0;34m*\u001b[0m\u001b[0;34m(\u001b[0m\u001b[0my_obs\u001b[0m\u001b[0;34m.\u001b[0m\u001b[0mT\u001b[0m \u001b[0;34m-\u001b[0m \u001b[0mx\u001b[0m\u001b[0;34m.\u001b[0m\u001b[0mT\u001b[0m\u001b[0;34m.\u001b[0m\u001b[0mdot\u001b[0m\u001b[0;34m(\u001b[0m\u001b[0malpha\u001b[0m\u001b[0;34m)\u001b[0m\u001b[0;34m)\u001b[0m\u001b[0;34m*\u001b[0m\u001b[0;34m[\u001b[0m\u001b[0;34m(\u001b[0m\u001b[0my_obs\u001b[0m \u001b[0;34m-\u001b[0m\u001b[0mdot\u001b[0m\u001b[0;34m(\u001b[0m\u001b[0mx\u001b[0m\u001b[0;34m)\u001b[0m\u001b[0;34m.\u001b[0m\u001b[0mdot\u001b[0m\u001b[0;34m(\u001b[0m\u001b[0malpha\u001b[0m\u001b[0;34m)\u001b[0m\u001b[0;34m)\u001b[0m\u001b[0;34m]\u001b[0m\u001b[0;34m\u001b[0m\u001b[0;34m\u001b[0m\u001b[0m\n\u001b[0m\u001b[1;32m      3\u001b[0m \u001b[0;34m\u001b[0m\u001b[0m\n\u001b[1;32m      4\u001b[0m \u001b[0;34m\u001b[0m\u001b[0m\n\u001b[1;32m      5\u001b[0m \u001b[0;34m\u001b[0m\u001b[0m\n",
            "\u001b[0;31mNameError\u001b[0m: name 'dot' is not defined"
          ]
        }
      ]
    },
    {
      "cell_type": "code",
      "metadata": {
        "id": "dToaduFHfe3_",
        "colab_type": "code",
        "colab": {}
      },
      "source": [
        ""
      ],
      "execution_count": 0,
      "outputs": []
    },
    {
      "cell_type": "code",
      "metadata": {
        "id": "5fXeqlc7fevR",
        "colab_type": "code",
        "colab": {}
      },
      "source": [
        ""
      ],
      "execution_count": 0,
      "outputs": []
    }
  ]
}