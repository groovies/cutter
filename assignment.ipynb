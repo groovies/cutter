{
  "nbformat": 4,
  "nbformat_minor": 0,
  "metadata": {
    "colab": {
      "name": "assignment.ipynb",
      "provenance": [],
      "collapsed_sections": [],
      "authorship_tag": "ABX9TyO0TOMbwEW6pCRJCG/sRo6r",
      "include_colab_link": true
    },
    "kernelspec": {
      "name": "python3",
      "display_name": "Python 3"
    }
  },
  "cells": [
    {
      "cell_type": "markdown",
      "metadata": {
        "id": "view-in-github",
        "colab_type": "text"
      },
      "source": [
        "<a href=\"https://colab.research.google.com/github/groovies/cutter/blob/l10n_master/assignment.ipynb\" target=\"_parent\"><img src=\"https://colab.research.google.com/assets/colab-badge.svg\" alt=\"Open In Colab\"/></a>"
      ]
    },
    {
      "cell_type": "code",
      "metadata": {
        "id": "MjVrin3v3teo",
        "colab_type": "code",
        "colab": {}
      },
      "source": [
        "import pandas as pd \n",
        "import matplotlib.pyplot as plt\n",
        "import math \n",
        "import random\n",
        "import numpy as np\n"
      ],
      "execution_count": 0,
      "outputs": []
    },
    {
      "cell_type": "code",
      "metadata": {
        "id": "FbUbmRsO5T9a",
        "colab_type": "code",
        "colab": {}
      },
      "source": [
        "def f(x):\n",
        "    return np.cos(2 * np.pi  * x)"
      ],
      "execution_count": 0,
      "outputs": []
    },
    {
      "cell_type": "code",
      "metadata": {
        "id": "kJw6-36XK7Ap",
        "colab_type": "code",
        "outputId": "1fe9cd63-14a0-4da3-8804-14badf887886",
        "colab": {
          "base_uri": "https://localhost:8080/",
          "height": 51
        }
      },
      "source": [
        "x = np.linspace(0,4,10)\n",
        "f(x)"
      ],
      "execution_count": 148,
      "outputs": [
        {
          "output_type": "execute_result",
          "data": {
            "text/plain": [
              "array([ 1.        , -0.93969262,  0.76604444, -0.5       ,  0.17364818,\n",
              "        0.17364818, -0.5       ,  0.76604444, -0.93969262,  1.        ])"
            ]
          },
          "metadata": {
            "tags": []
          },
          "execution_count": 148
        }
      ]
    },
    {
      "cell_type": "code",
      "metadata": {
        "id": "JmLQr6S7Sql_",
        "colab_type": "code",
        "outputId": "a64d797a-0e0b-4d2b-eb2b-40de2604ed48",
        "colab": {
          "base_uri": "https://localhost:8080/",
          "height": 68
        }
      },
      "source": [
        "eps = np.random.normal(0,12,10)\n",
        "y= f(x) + eps\n",
        "y"
      ],
      "execution_count": 151,
      "outputs": [
        {
          "output_type": "execute_result",
          "data": {
            "text/plain": [
              "array([ -3.13795971,   5.80947578,   2.95122919,  30.45388286,\n",
              "         6.86350806, -15.15119524,  -8.92507781,   2.52433294,\n",
              "        16.14848894,   1.87181421])"
            ]
          },
          "metadata": {
            "tags": []
          },
          "execution_count": 151
        }
      ]
    },
    {
      "cell_type": "code",
      "metadata": {
        "id": "L9BNwK5VBskP",
        "colab_type": "code",
        "colab": {}
      },
      "source": [
        "x = np.linspace(0,4*np.pi,10)\n",
        "y = np.cos(2*np.pi*x)\n",
        "\n",
        "\n",
        "\n"
      ],
      "execution_count": 0,
      "outputs": []
    },
    {
      "cell_type": "code",
      "metadata": {
        "id": "Xccc1W3gSFHR",
        "colab_type": "code",
        "colab": {
          "base_uri": "https://localhost:8080/",
          "height": 71
        },
        "outputId": "3f2ac799-9343-4dac-a049-1d543caae6b2"
      },
      "source": [
        "deg1 = np.polyfit(x,y,1)\n",
        "deg2 = np.polyfit(x,y,2)\n",
        "deg3= np.polyfit(x,y,3)\n",
        "deg4 = np.polyfit(x,y,4)\n",
        "deg5 = np.polyfit(x,y,5)\n",
        "deg6= np.polyfit(x,y,6)\n",
        "deg7= np.polyfit(x,y,7)\n",
        "deg8= np.polyfit(x,y,8)\n",
        "deg9= np.polyfit(x,y,9)\n",
        "deg10 = np.polyfit(x,y,10)"
      ],
      "execution_count": 153,
      "outputs": [
        {
          "output_type": "stream",
          "text": [
            "/usr/local/lib/python3.6/dist-packages/IPython/core/interactiveshell.py:2882: RankWarning: Polyfit may be poorly conditioned\n",
            "  exec(code_obj, self.user_global_ns, self.user_ns)\n"
          ],
          "name": "stderr"
        }
      ]
    },
    {
      "cell_type": "code",
      "metadata": {
        "id": "SuwdlQiaBc1b",
        "colab_type": "code",
        "outputId": "48859470-97fd-40cc-947f-4dfe8c884df4",
        "colab": {
          "base_uri": "https://localhost:8080/",
          "height": 299
        }
      },
      "source": [
        "\n",
        "x1 = np.linspace(0,4*np.pi)\n",
        "y1 = np.polyval(deg1,x1)\n",
        "x2 = np.linspace(0,4*np.pi)\n",
        "y2 = np.polyval(deg2,x2)\n",
        "x3 = np.linspace(0,4*np.pi)\n",
        "y3 = np.polyval(deg3,x3)\n",
        "x4 = np.linspace(0,4*np.pi)\n",
        "y4 = np.polyval(deg4,x4)\n",
        "x5 = np.linspace(0,4*np.pi)\n",
        "y5 = np.polyval(deg5,x5)\n",
        "x6 = np.linspace(0,4*np.pi)\n",
        "y6 = np.polyval(deg6,x2)\n",
        "x7 = np.linspace(0,4*np.pi)\n",
        "y7 = np.polyval(deg7,x2)\n",
        "x8 = np.linspace(0,4*np.pi)\n",
        "y8 = np.polyval(deg8,x8)\n",
        "plt.plot(x,y,'y')\n",
        "plt.plot(x8,y8)\n",
        "plt.plot(x,y,'y')\n",
        "plt.plot(x7,y7)\n",
        "plt.plot(x,y,'v')\n",
        "plt.plot(x6,y6)\n",
        "plt.plot(x,y,'y')\n",
        "plt.plot(x5,y5)\n",
        "plt.plot(x,y,'r', label=\"ded\")\n",
        "plt.plot(x4,y4)\n",
        "plt.plot(x,y,'g')\n",
        "plt.plot(x3,y3)\n",
        "plt.plot(x,y,'p')\n",
        "plt.plot(x2,y2)\n",
        "plt.plot(x,y,'o')\n",
        "plt.plot(x1,y1)\n",
        "plt.legend()\n",
        "plt.figure(figsize = (100,80))"
      ],
      "execution_count": 154,
      "outputs": [
        {
          "output_type": "execute_result",
          "data": {
            "text/plain": [
              "<Figure size 7200x5760 with 0 Axes>"
            ]
          },
          "metadata": {
            "tags": []
          },
          "execution_count": 154
        },
        {
          "output_type": "display_data",
          "data": {
            "image/png": "[encoded data removed]",
            "text/plain": [
              "<Figure size 432x288 with 1 Axes>"
            ]
          },
          "metadata": {
            "tags": []
          }
        },
        {
          "output_type": "display_data",
          "data": {
            "text/plain": [
              "<Figure size 7200x5760 with 0 Axes>"
            ]
          },
          "metadata": {
            "tags": []
          }
        }
      ]
    },
    {
      "cell_type": "code",
      "metadata": {
        "id": "pHzbPST7zxSY",
        "colab_type": "code",
        "colab": {
          "base_uri": "https://localhost:8080/",
          "height": 187
        },
        "outputId": "f9309c89-7252-4466-938a-20708c49df3f"
      },
      "source": [
        "d_dict = {\"deg1\":deg1,\"deg2\":deg2,\"deg3\":deg3,\"deg1\" :deg4 ,\"deg5\":deg5,\"deg6\":deg6,\"deg7\":deg7,\"deg8\":deg8}\n",
        "min_length =10\n",
        "df =pd.DataFrame({k:pd.Series(v[:min_length]) for k,v in d_dict.items()})\n",
        "print(df)"
      ],
      "execution_count": 155,
      "outputs": [
        {
          "output_type": "stream",
          "text": [
            "       deg1      deg2      deg3      deg5      deg6      deg7       deg8\n",
            "0  0.000106 -0.000053 -0.005894 -0.000734  0.000044 -0.000082   0.000019\n",
            "1 -0.008569 -0.044033  0.111041  0.023160 -0.002402  0.003640  -0.001032\n",
            "2  0.132000  0.277032 -0.573727 -0.261308  0.046729 -0.064671   0.023139\n",
            "3 -0.625881       NaN  0.681321  1.255592 -0.414573  0.583311  -0.274697\n",
            "4  0.698798       NaN       NaN -2.319752  1.703068 -2.799274   1.851026\n",
            "5       NaN       NaN       NaN  0.932451 -2.775538  6.756433  -7.022154\n",
            "6       NaN       NaN       NaN       NaN  0.953915 -6.623989  13.791995\n",
            "7       NaN       NaN       NaN       NaN       NaN  0.998635 -11.008080\n",
            "8       NaN       NaN       NaN       NaN       NaN       NaN   1.006333\n"
          ],
          "name": "stdout"
        }
      ]
    }
  ]
}