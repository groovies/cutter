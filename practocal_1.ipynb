{
  "nbformat": 4,
  "nbformat_minor": 0,
  "metadata": {
    "colab": {
      "name": "practocal 1.ipynb",
      "provenance": [],
      "authorship_tag": "ABX9TyNP8HnMMkHsnpl7gXR+CJUu",
      "include_colab_link": true
    },
    "kernelspec": {
      "name": "python3",
      "display_name": "Python 3"
    },
    "language_info": {
      "name": "python"
    }
  },
  "cells": [
    {
      "cell_type": "markdown",
      "metadata": {
        "id": "view-in-github",
        "colab_type": "text"
      },
      "source": [
        "<a href=\"https://colab.research.google.com/github/groovies/cutter/blob/master/practocal_1.ipynb\" target=\"_parent\"><img src=\"https://colab.research.google.com/assets/colab-badge.svg\" alt=\"Open In Colab\"/></a>"
      ]
    },
    {
      "cell_type": "code",
      "metadata": {
        "id": "D8mKLNZsWIlo"
      },
      "source": [
        "import numpy as np\n",
        "import matplotlib.pyplot as plt\n"
      ],
      "execution_count": 110,
      "outputs": []
    },
    {
      "cell_type": "code",
      "metadata": {
        "id": "E9Tj0hZ6WKOn"
      },
      "source": [
        ""
      ],
      "execution_count": 66,
      "outputs": []
    },
    {
      "cell_type": "markdown",
      "metadata": {
        "id": "ZjQDmMb2WOrO"
      },
      "source": [
        "creating design matrix"
      ]
    },
    {
      "cell_type": "code",
      "metadata": {
        "id": "l8YgVBzpWRyf"
      },
      "source": [
        "n=7\n",
        "x=np.random.uniform(2,12,n)"
      ],
      "execution_count": 67,
      "outputs": []
    },
    {
      "cell_type": "code",
      "metadata": {
        "id": "Am6QftiNWYyB"
      },
      "source": [
        "def designMatrix():\n",
        "    return np.c_[np.ones(n),x]\n",
        "    "
      ],
      "execution_count": 68,
      "outputs": []
    },
    {
      "cell_type": "code",
      "metadata": {
        "id": "3Loyp2FvWhzA"
      },
      "source": [
        "v=np.c_[np.ones(n),x]"
      ],
      "execution_count": 78,
      "outputs": []
    },
    {
      "cell_type": "code",
      "metadata": {
        "colab": {
          "base_uri": "https://localhost:8080/"
        },
        "id": "0LIbYzZrX0zz",
        "outputId": "c727dd21-9b86-4584-aa60-262ad2c054e7"
      },
      "source": [
        "v"
      ],
      "execution_count": 70,
      "outputs": [
        {
          "output_type": "execute_result",
          "data": {
            "text/plain": [
              "array([[ 1.        ,  8.91541621],\n",
              "       [ 1.        ,  5.54192857],\n",
              "       [ 1.        ,  7.68500551],\n",
              "       [ 1.        , 11.50133385],\n",
              "       [ 1.        , 10.75473297],\n",
              "       [ 1.        , 10.84108875],\n",
              "       [ 1.        ,  2.8874322 ]])"
            ]
          },
          "metadata": {
            "tags": []
          },
          "execution_count": 70
        }
      ]
    },
    {
      "cell_type": "markdown",
      "metadata": {
        "id": "0D8bdBSSYNOx"
      },
      "source": [
        "A method for learning the parameters of the model"
      ]
    },
    {
      "cell_type": "code",
      "metadata": {
        "id": "YYj_oBeiX09V"
      },
      "source": [
        "from sklearn.linear_model import LinearRegression"
      ],
      "execution_count": 79,
      "outputs": []
    },
    {
      "cell_type": "code",
      "metadata": {
        "id": "27v717s0X1D1"
      },
      "source": [
        "x_1 = np.random.uniform(5,2,7).reshape((-1, 1))\n",
        "y = np.random.uniform(20, 14,7)"
      ],
      "execution_count": 80,
      "outputs": []
    },
    {
      "cell_type": "code",
      "metadata": {
        "id": "N4l7J9PZX1RV"
      },
      "source": [
        "model = LinearRegression()"
      ],
      "execution_count": 83,
      "outputs": []
    },
    {
      "cell_type": "code",
      "metadata": {
        "colab": {
          "base_uri": "https://localhost:8080/"
        },
        "id": "n0Mkjb55X1WH",
        "outputId": "00eb80cd-4571-4ac4-ea8f-62a1342369ce"
      },
      "source": [
        "model.fit(x_1,y)"
      ],
      "execution_count": 84,
      "outputs": [
        {
          "output_type": "execute_result",
          "data": {
            "text/plain": [
              "LinearRegression(copy_X=True, fit_intercept=True, n_jobs=None, normalize=False)"
            ]
          },
          "metadata": {
            "tags": []
          },
          "execution_count": 84
        }
      ]
    },
    {
      "cell_type": "code",
      "metadata": {
        "colab": {
          "base_uri": "https://localhost:8080/"
        },
        "id": "LAjoNk4aX1bD",
        "outputId": "8dff9bc8-119e-476d-ea2d-ce0ddbbf1211"
      },
      "source": [
        "print('y_intercept:', model.intercept_)"
      ],
      "execution_count": 85,
      "outputs": [
        {
          "output_type": "stream",
          "text": [
            "y_intercept: 15.719290608663552\n"
          ],
          "name": "stdout"
        }
      ]
    },
    {
      "cell_type": "code",
      "metadata": {
        "colab": {
          "base_uri": "https://localhost:8080/"
        },
        "id": "ntEsTzOWX1i4",
        "outputId": "2d5ed7da-107b-4ead-cf3e-99fdda45bf33"
      },
      "source": [
        "print('slope/gradient:', model.coef_)"
      ],
      "execution_count": 86,
      "outputs": [
        {
          "output_type": "stream",
          "text": [
            "slope/gradient: [0.25961742]\n"
          ],
          "name": "stdout"
        }
      ]
    },
    {
      "cell_type": "code",
      "metadata": {
        "id": "Vj3q_oIzaTWe"
      },
      "source": [
        "epsilon=0.5"
      ],
      "execution_count": 87,
      "outputs": []
    },
    {
      "cell_type": "code",
      "metadata": {
        "id": "XF0P8WT4X1oz"
      },
      "source": [
        "y_obs=model.intercept_ + model.coef_*x + epsilon"
      ],
      "execution_count": 88,
      "outputs": []
    },
    {
      "cell_type": "code",
      "metadata": {
        "colab": {
          "base_uri": "https://localhost:8080/"
        },
        "id": "Qwssk2MzX1wy",
        "outputId": "a7014339-f865-4f14-89fd-bd6777a8dfbb"
      },
      "source": [
        "y_obs"
      ],
      "execution_count": 89,
      "outputs": [
        {
          "output_type": "execute_result",
          "data": {
            "text/plain": [
              "array([18.53388792, 17.65807178, 18.21445188, 19.20523718, 19.01140659,\n",
              "       19.03382605, 16.96891829])"
            ]
          },
          "metadata": {
            "tags": []
          },
          "execution_count": 89
        }
      ]
    },
    {
      "cell_type": "code",
      "metadata": {
        "colab": {
          "base_uri": "https://localhost:8080/"
        },
        "id": "tYsLLHhmX11M",
        "outputId": "20154a76-6e6d-4253-a60e-e1b31e1611f8"
      },
      "source": [
        "theta_1=np.linalg.inv(v.T.dot(v)).dot(v.T).dot(y_obs)\n",
        "theta_1"
      ],
      "execution_count": 91,
      "outputs": [
        {
          "output_type": "execute_result",
          "data": {
            "text/plain": [
              "array([16.21929061,  0.25961742])"
            ]
          },
          "metadata": {
            "tags": []
          },
          "execution_count": 91
        }
      ]
    },
    {
      "cell_type": "code",
      "metadata": {
        "id": "d4_JmELQX15O"
      },
      "source": [
        ""
      ],
      "execution_count": null,
      "outputs": []
    },
    {
      "cell_type": "markdown",
      "metadata": {
        "id": "M4F69a0Od6gR"
      },
      "source": [
        "A method for predicting target values given input values x using two methods:\n",
        "OLS"
      ]
    },
    {
      "cell_type": "code",
      "metadata": {
        "colab": {
          "base_uri": "https://localhost:8080/"
        },
        "id": "18SFAh8td9WR",
        "outputId": "3c7affbf-6941-4831-849d-6a8448ce550a"
      },
      "source": [
        "y_pred = model.predict(x_1)\n",
        "print('predicted response:', y_pred, sep='\\n')"
      ],
      "execution_count": 95,
      "outputs": [
        {
          "output_type": "stream",
          "text": [
            "predicted response:\n",
            "[16.78024133 16.61247488 16.64951934 16.86801549 16.29765145 16.68023736\n",
            " 16.79264378]\n"
          ],
          "name": "stdout"
        }
      ]
    },
    {
      "cell_type": "code",
      "metadata": {
        "colab": {
          "base_uri": "https://localhost:8080/"
        },
        "id": "YioYGsWIeEVA",
        "outputId": "63f3c305-12f0-4dee-8d35-ec003973c14c"
      },
      "source": [
        "y_pred = model.intercept_ + model.coef_ * x\n",
        "print('predicted response:', y_pred, sep='\\n')"
      ],
      "execution_count": 96,
      "outputs": [
        {
          "output_type": "stream",
          "text": [
            "predicted response:\n",
            "[18.03388792 17.15807178 17.71445188 18.70523718 18.51140659 18.53382605\n",
            " 16.46891829]\n"
          ],
          "name": "stdout"
        }
      ]
    },
    {
      "cell_type": "code",
      "metadata": {
        "colab": {
          "base_uri": "https://localhost:8080/"
        },
        "id": "JtbAw4-9hAKN",
        "outputId": "5e5a925c-9cc2-41da-b665-660d8a7e2e33"
      },
      "source": [
        "theta_1=np.linalg.inv(v.T.dot(v)).dot(v.T).dot(y_obs)\n",
        "theta_1"
      ],
      "execution_count": 99,
      "outputs": [
        {
          "output_type": "execute_result",
          "data": {
            "text/plain": [
              "array([16.21929061,  0.25961742])"
            ]
          },
          "metadata": {
            "tags": []
          },
          "execution_count": 99
        }
      ]
    },
    {
      "cell_type": "markdown",
      "metadata": {
        "id": "j2lzHwR4rfkn"
      },
      "source": [
        ""
      ]
    },
    {
      "cell_type": "markdown",
      "metadata": {
        "id": "TbjFzhvqrfu8"
      },
      "source": [
        "A method for predicting target values given input values x using two methods:MLE"
      ]
    },
    {
      "cell_type": "code",
      "metadata": {
        "colab": {
          "base_uri": "https://localhost:8080/"
        },
        "id": "CwaDzGkihTyV",
        "outputId": "c398279f-b8ba-49a9-8326-26b9324631ae"
      },
      "source": [
        "theta_1=np.linalg.inv(v.T.dot(v)).dot(v.T).dot(y_obs)\n",
        "theta_1"
      ],
      "execution_count": 109,
      "outputs": [
        {
          "output_type": "execute_result",
          "data": {
            "text/plain": [
              "array([16.21929061,  0.25961742])"
            ]
          },
          "metadata": {
            "tags": []
          },
          "execution_count": 109
        }
      ]
    },
    {
      "cell_type": "markdown",
      "metadata": {
        "id": "S2wHzr5OwZlD"
      },
      "source": [
        "A plotting method for a fitted line and 1 standard division for denoting uncertainties with the MLE method"
      ]
    },
    {
      "cell_type": "code",
      "metadata": {
        "colab": {
          "base_uri": "https://localhost:8080/",
          "height": 296
        },
        "id": "31qAHhasrvrh",
        "outputId": "28b5b465-4af4-4287-800d-e98a5f7320dc"
      },
      "source": [
        "plt.plot(x,y_obs,'.')\n",
        "plt.ylabel(\"y_obs\")\n",
        "plt.xlabel(\"feature\")\n"
      ],
      "execution_count": 120,
      "outputs": [
        {
          "output_type": "execute_result",
          "data": {
            "text/plain": [
              "Text(0.5, 0, 'feature')"
            ]
          },
          "metadata": {
            "tags": []
          },
          "execution_count": 120
        },
        {
          "output_type": "display_data",
          "data": {
            "image/png": "[encoded data removed]",
            "text/plain": [
              "<Figure size 432x288 with 1 Axes>"
            ]
          },
          "metadata": {
            "tags": [],
            "needs_background": "light"
          }
        }
      ]
    },
    {
      "cell_type": "code",
      "metadata": {
        "id": "lBgqo_HftcP_"
      },
      "source": [
        ""
      ],
      "execution_count": null,
      "outputs": []
    }
  ]
}