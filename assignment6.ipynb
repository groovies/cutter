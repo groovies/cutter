{
  "nbformat": 4,
  "nbformat_minor": 0,
  "metadata": {
    "kernelspec": {
      "display_name": "Python 3",
      "language": "python",
      "name": "python3"
    },
    "language_info": {
      "codemirror_mode": {
        "name": "ipython",
        "version": 3
      },
      "file_extension": ".py",
      "mimetype": "text/x-python",
      "name": "python",
      "nbconvert_exporter": "python",
      "pygments_lexer": "ipython3",
      "version": "3.7.4"
    },
    "colab": {
      "name": "assignment6.ipynb",
      "provenance": [],
      "toc_visible": true,
      "include_colab_link": true
    }
  },
  "cells": [
    {
      "cell_type": "markdown",
      "metadata": {
        "id": "view-in-github",
        "colab_type": "text"
      },
      "source": [
        "<a href=\"https://colab.research.google.com/github/groovies/cutter/blob/master/assignment6.ipynb\" target=\"_parent\"><img src=\"https://colab.research.google.com/assets/colab-badge.svg\" alt=\"Open In Colab\"/></a>"
      ]
    },
    {
      "cell_type": "code",
      "metadata": {
        "id": "V2B5KIeljtVz",
        "colab_type": "code",
        "colab": {}
      },
      "source": [
        "import matplotlib.pyplot as plt\n",
        "import pandas as pd\n",
        "from sklearn.preprocessing import scale \n",
        "from sklearn.model_selection import train_test_split\n",
        "import numpy as np"
      ],
      "execution_count": 49,
      "outputs": []
    },
    {
      "cell_type": "code",
      "metadata": {
        "id": "1CEjKm5pjtWE",
        "colab_type": "code",
        "colab": {
          "base_uri": "https://localhost:8080/",
          "height": 359
        },
        "outputId": "0826e396-3b95-4416-a827-ecfa11e6c1fc"
      },
      "source": [
        "data = pd.read_csv('weightdataset.csv',sep=';')\n",
        "data.head(10)"
      ],
      "execution_count": 50,
      "outputs": [
        {
          "output_type": "execute_result",
          "data": {
            "text/html": [
              "<div>\n",
              "<style scoped>\n",
              "    .dataframe tbody tr th:only-of-type {\n",
              "        vertical-align: middle;\n",
              "    }\n",
              "\n",
              "    .dataframe tbody tr th {\n",
              "        vertical-align: top;\n",
              "    }\n",
              "\n",
              "    .dataframe thead th {\n",
              "        text-align: right;\n",
              "    }\n",
              "</style>\n",
              "<table border=\"1\" class=\"dataframe\">\n",
              "  <thead>\n",
              "    <tr style=\"text-align: right;\">\n",
              "      <th></th>\n",
              "      <th>Gender</th>\n",
              "      <th>Height</th>\n",
              "      <th>Weight</th>\n",
              "    </tr>\n",
              "  </thead>\n",
              "  <tbody>\n",
              "    <tr>\n",
              "      <th>0</th>\n",
              "      <td>Male</td>\n",
              "      <td>73.847017</td>\n",
              "      <td>241.893563</td>\n",
              "    </tr>\n",
              "    <tr>\n",
              "      <th>1</th>\n",
              "      <td>Male</td>\n",
              "      <td>68.781904</td>\n",
              "      <td>162.310473</td>\n",
              "    </tr>\n",
              "    <tr>\n",
              "      <th>2</th>\n",
              "      <td>Male</td>\n",
              "      <td>74.110105</td>\n",
              "      <td>212.740856</td>\n",
              "    </tr>\n",
              "    <tr>\n",
              "      <th>3</th>\n",
              "      <td>Male</td>\n",
              "      <td>71.730978</td>\n",
              "      <td>220.042470</td>\n",
              "    </tr>\n",
              "    <tr>\n",
              "      <th>4</th>\n",
              "      <td>Male</td>\n",
              "      <td>69.881796</td>\n",
              "      <td>206.349801</td>\n",
              "    </tr>\n",
              "    <tr>\n",
              "      <th>5</th>\n",
              "      <td>Male</td>\n",
              "      <td>67.253016</td>\n",
              "      <td>152.212156</td>\n",
              "    </tr>\n",
              "    <tr>\n",
              "      <th>6</th>\n",
              "      <td>Male</td>\n",
              "      <td>68.785081</td>\n",
              "      <td>183.927889</td>\n",
              "    </tr>\n",
              "    <tr>\n",
              "      <th>7</th>\n",
              "      <td>Male</td>\n",
              "      <td>68.348516</td>\n",
              "      <td>167.971110</td>\n",
              "    </tr>\n",
              "    <tr>\n",
              "      <th>8</th>\n",
              "      <td>Male</td>\n",
              "      <td>67.018950</td>\n",
              "      <td>175.929440</td>\n",
              "    </tr>\n",
              "    <tr>\n",
              "      <th>9</th>\n",
              "      <td>Male</td>\n",
              "      <td>63.456494</td>\n",
              "      <td>156.399676</td>\n",
              "    </tr>\n",
              "  </tbody>\n",
              "</table>\n",
              "</div>"
            ],
            "text/plain": [
              "  Gender     Height      Weight\n",
              "0   Male  73.847017  241.893563\n",
              "1   Male  68.781904  162.310473\n",
              "2   Male  74.110105  212.740856\n",
              "3   Male  71.730978  220.042470\n",
              "4   Male  69.881796  206.349801\n",
              "5   Male  67.253016  152.212156\n",
              "6   Male  68.785081  183.927889\n",
              "7   Male  68.348516  167.971110\n",
              "8   Male  67.018950  175.929440\n",
              "9   Male  63.456494  156.399676"
            ]
          },
          "metadata": {
            "tags": []
          },
          "execution_count": 50
        }
      ]
    },
    {
      "cell_type": "code",
      "metadata": {
        "id": "KnV9rJVwjtWa",
        "colab_type": "code",
        "colab": {}
      },
      "source": [
        "x = scale(data.Weight) \n",
        "y = scale(data.Height)\n",
        "\n",
        "#n = len(x)\n",
        "#X = np.c_[np.ones(n), x]\n",
        "\n",
        "w_input = np.random.random(2)\n",
        "w_out = np.random.random(1)\n",
        "x_train, x_test,y_train, y_test = train_test_split(x,y, test_size=0.3)"
      ],
      "execution_count": 51,
      "outputs": []
    },
    {
      "cell_type": "code",
      "metadata": {
        "id": "MY1SFB0kjtWu",
        "colab_type": "code",
        "colab": {}
      },
      "source": [
        "def des(x):              #matrix\n",
        "    n = len(x)\n",
        "    X = np.c_[np.ones(n), x]\n",
        "    return(X)"
      ],
      "execution_count": 52,
      "outputs": []
    },
    {
      "cell_type": "code",
      "metadata": {
        "id": "15pFNlegjtW-",
        "colab_type": "code",
        "colab": {}
      },
      "source": [
        "def hidden(p,w_in):\n",
        "    h = p.dot(w_in)\n",
        "    return(h)"
      ],
      "execution_count": 53,
      "outputs": []
    },
    {
      "cell_type": "code",
      "metadata": {
        "id": "ty7Iy-shjtXW",
        "colab_type": "code",
        "colab": {}
      },
      "source": [
        "def sigmoid(x):\n",
        "    return(1/(1 + np.exp(-x)))  #sigmoid function"
      ],
      "execution_count": 54,
      "outputs": []
    },
    {
      "cell_type": "code",
      "metadata": {
        "id": "ZRsIclI5jtX1",
        "colab_type": "code",
        "colab": {}
      },
      "source": [
        "def der_sigmoid(x):\n",
        "    return(sigmoid(x) * (1 - sigmoid(x))) #derivative of sigmoid"
      ],
      "execution_count": 55,
      "outputs": []
    },
    {
      "cell_type": "code",
      "metadata": {
        "id": "kzrOy613jtYg",
        "colab_type": "code",
        "colab": {}
      },
      "source": [
        "X_train = des(x_train) # Fitting training data to design Matrix \n",
        "X_test = des(x_test) # Fitting testing data to design matrix\n",
        "\n",
        "u11 = hidden(X_train,w_input) # Calculating the output of the hidden without sigmoid\n",
        "o11 = sigmoid(X_train) # Output of the sigmoid function, note: 011=y_pred"
      ],
      "execution_count": 56,
      "outputs": []
    },
    {
      "cell_type": "code",
      "metadata": {
        "id": "Swwty6hCjtYy",
        "colab_type": "code",
        "colab": {}
      },
      "source": [
        "def y_w1(x,w): # Derivative of y_pred with respect to w1\n",
        "    return((1/(1 + np.exp(-x*w)))*(1/(1 + np.exp(-x*w))) * x)\n",
        "\n",
        "derivative = y_w1(X_test,w_input)"
      ],
      "execution_count": 57,
      "outputs": []
    },
    {
      "cell_type": "code",
      "metadata": {
        "id": "1ZzccBBIjtZH",
        "colab_type": "code",
        "colab": {}
      },
      "source": [
        "epochs = 1000\n",
        "lr = 0.001\n",
        "y_pred = sigmoid(X_test)\n",
        "\n",
        "\n",
        "def optimize(y_i,y_pred,w,x,epochs, derivative,lr):\n",
        "    \n",
        "    cost = []\n",
        "    weights = []\n",
        "    \n",
        "    nll = 0\n",
        "    \n",
        "    n = len(x)\n",
        "    \n",
        "    for i in range(epochs):\n",
        "        \n",
        "        \n",
        "    \n",
        "        y_i = y_i.reshape(len(y_i),1)\n",
        "        \n",
        "        nll = -np.sum((y_i *np.log(w) + (1 - y_i)*np.log(1 - w)))\n",
        "        cost.append(nll)\n",
        "        \n",
        "        \n",
        "        w = w - (lr*(1/n)*sum(y_pred - y_i))\n",
        "        weights.append(w)\n",
        "        \n",
        "    return(cost, weights)"
      ],
      "execution_count": 58,
      "outputs": []
    },
    {
      "cell_type": "code",
      "metadata": {
        "id": "LeFCF7yEjtZc",
        "colab_type": "code",
        "colab": {
          "base_uri": "https://localhost:8080/",
          "height": 34
        },
        "outputId": "69751a6e-0281-48b5-ed71-b7957d3edfe5"
      },
      "source": [
        "error,updated_weights = optimize(y_test,y_pred,w_input,X_test,epochs,derivative,lr)\n",
        "weights = updated_weights[-1] \n"
      ],
      "execution_count": 59,
      "outputs": [
        {
          "output_type": "stream",
          "text": [
            "/usr/local/lib/python3.6/dist-packages/ipykernel_launcher.py:21: RuntimeWarning: invalid value encountered in log\n"
          ],
          "name": "stderr"
        }
      ]
    },
    {
      "cell_type": "code",
      "metadata": {
        "id": "9xHZS1E2jtZ0",
        "colab_type": "code",
        "colab": {
          "base_uri": "https://localhost:8080/",
          "height": 404
        },
        "outputId": "c4ff1491-68f4-45cb-dee6-5ea614da9c19"
      },
      "source": [
        "plt.figure(figsize=(14,6))  #negative loglikelihood\n",
        "plt.plot(error, label='Loss', color = 'r')\n",
        "plt.title('Losses')\n",
        "plt.xlabel('Number of iterations')\n",
        "plt.ylabel('Cost')\n",
        "plt.show()"
      ],
      "execution_count": 60,
      "outputs": [
        {
          "output_type": "display_data",
          "data": {
            "image/png": "[encoded data removed]",
            "text/plain": [
              "<Figure size 1008x432 with 1 Axes>"
            ]
          },
          "metadata": {
            "tags": [],
            "needs_background": "light"
          }
        }
      ]
    },
    {
      "cell_type": "code",
      "metadata": {
        "id": "8Z-ekXgzjtZ9",
        "colab_type": "code",
        "colab": {}
      },
      "source": [
        ""
      ],
      "execution_count": 60,
      "outputs": []
    }
  ]
}